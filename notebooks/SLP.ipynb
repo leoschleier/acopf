{
 "cells": [
  {
   "cell_type": "markdown",
   "source": [
    "# **ACOPF - SLP**"
   ],
   "metadata": {}
  },
  {
   "cell_type": "markdown",
   "source": [
    "Essential functions are stored inside the pyhton module called **acopf** .       \r\n",
    "    acopf.slp - *ModelBuilder* to set up and adjust the ACOPF-LP-approximation   \r\n",
    "    acopf.utils - Functions for data import parameter calculation.   \r\n",
    "    "
   ],
   "metadata": {}
  },
  {
   "cell_type": "code",
   "execution_count": 1,
   "source": [
    "import sys\r\n",
    "sys.path.append('../acopf')"
   ],
   "outputs": [],
   "metadata": {}
  },
  {
   "cell_type": "code",
   "execution_count": 2,
   "source": [
    "import os\r\n",
    "import pandas as pd\r\n",
    "import numpy as np\r\n",
    "import matplotlib.pyplot as plt\r\n",
    "import time\r\n",
    "import acopf.slp as slp\r\n",
    "import acopf.utils as utils\r\n",
    "import acopf.config as config"
   ],
   "outputs": [],
   "metadata": {}
  },
  {
   "cell_type": "markdown",
   "source": [
    "## **Import Data**"
   ],
   "metadata": {}
  },
  {
   "cell_type": "markdown",
   "source": [
    "Uncomment the data files that should be used."
   ],
   "metadata": {}
  },
  {
   "cell_type": "code",
   "execution_count": 6,
   "source": [
    "bus_file = os.path.join(config.data_dir,\"01_test_cases/WB5/bus_data.CSV\")\r\n",
    "print(bus_file)\r\n",
    "wb5 = pd.read_csv(bus_file, sep=';')\r\n",
    "\r\n",
    "wb5"
   ],
   "outputs": [
    {
     "output_type": "stream",
     "name": "stdout",
     "text": [
      "..\\data\\01_test_cases/WB5/bus_data.CSV\n"
     ]
    },
    {
     "output_type": "execute_result",
     "data": {
      "text/html": [
       "<div>\n",
       "<style scoped>\n",
       "    .dataframe tbody tr th:only-of-type {\n",
       "        vertical-align: middle;\n",
       "    }\n",
       "\n",
       "    .dataframe tbody tr th {\n",
       "        vertical-align: top;\n",
       "    }\n",
       "\n",
       "    .dataframe thead th {\n",
       "        text-align: right;\n",
       "    }\n",
       "</style>\n",
       "<table border=\"1\" class=\"dataframe\">\n",
       "  <thead>\n",
       "    <tr style=\"text-align: right;\">\n",
       "      <th></th>\n",
       "      <th>bus_i</th>\n",
       "      <th>type</th>\n",
       "      <th>Pd</th>\n",
       "      <th>Qd</th>\n",
       "      <th>Gs</th>\n",
       "      <th>Bs</th>\n",
       "      <th>Vmax</th>\n",
       "      <th>Vmin</th>\n",
       "      <th>Qmax</th>\n",
       "      <th>Qmin</th>\n",
       "      <th>Pmax</th>\n",
       "      <th>Pmin</th>\n",
       "      <th>baseMVA</th>\n",
       "      <th>baseKV</th>\n",
       "    </tr>\n",
       "  </thead>\n",
       "  <tbody>\n",
       "    <tr>\n",
       "      <th>0</th>\n",
       "      <td>1</td>\n",
       "      <td>3</td>\n",
       "      <td>0.00</td>\n",
       "      <td>0.0</td>\n",
       "      <td>0</td>\n",
       "      <td>0</td>\n",
       "      <td>1.05</td>\n",
       "      <td>0.95</td>\n",
       "      <td>18</td>\n",
       "      <td>-0.3</td>\n",
       "      <td>50</td>\n",
       "      <td>0</td>\n",
       "      <td>100</td>\n",
       "      <td>345</td>\n",
       "    </tr>\n",
       "    <tr>\n",
       "      <th>1</th>\n",
       "      <td>2</td>\n",
       "      <td>1</td>\n",
       "      <td>1.30</td>\n",
       "      <td>0.2</td>\n",
       "      <td>0</td>\n",
       "      <td>0</td>\n",
       "      <td>1.05</td>\n",
       "      <td>0.95</td>\n",
       "      <td>0</td>\n",
       "      <td>0.0</td>\n",
       "      <td>0</td>\n",
       "      <td>0</td>\n",
       "      <td>100</td>\n",
       "      <td>345</td>\n",
       "    </tr>\n",
       "    <tr>\n",
       "      <th>2</th>\n",
       "      <td>3</td>\n",
       "      <td>1</td>\n",
       "      <td>1.30</td>\n",
       "      <td>0.2</td>\n",
       "      <td>0</td>\n",
       "      <td>0</td>\n",
       "      <td>1.05</td>\n",
       "      <td>0.95</td>\n",
       "      <td>0</td>\n",
       "      <td>0.0</td>\n",
       "      <td>0</td>\n",
       "      <td>0</td>\n",
       "      <td>100</td>\n",
       "      <td>345</td>\n",
       "    </tr>\n",
       "    <tr>\n",
       "      <th>3</th>\n",
       "      <td>4</td>\n",
       "      <td>1</td>\n",
       "      <td>0.65</td>\n",
       "      <td>0.1</td>\n",
       "      <td>0</td>\n",
       "      <td>0</td>\n",
       "      <td>1.05</td>\n",
       "      <td>0.95</td>\n",
       "      <td>0</td>\n",
       "      <td>0.0</td>\n",
       "      <td>0</td>\n",
       "      <td>0</td>\n",
       "      <td>100</td>\n",
       "      <td>345</td>\n",
       "    </tr>\n",
       "    <tr>\n",
       "      <th>4</th>\n",
       "      <td>5</td>\n",
       "      <td>2</td>\n",
       "      <td>0.00</td>\n",
       "      <td>0.0</td>\n",
       "      <td>0</td>\n",
       "      <td>0</td>\n",
       "      <td>1.05</td>\n",
       "      <td>0.95</td>\n",
       "      <td>18</td>\n",
       "      <td>-0.3</td>\n",
       "      <td>50</td>\n",
       "      <td>0</td>\n",
       "      <td>100</td>\n",
       "      <td>345</td>\n",
       "    </tr>\n",
       "  </tbody>\n",
       "</table>\n",
       "</div>"
      ],
      "text/plain": [
       "   bus_i  type    Pd   Qd  Gs  Bs  Vmax  Vmin  Qmax  Qmin  Pmax  Pmin  \\\n",
       "0      1     3  0.00  0.0   0   0  1.05  0.95    18  -0.3    50     0   \n",
       "1      2     1  1.30  0.2   0   0  1.05  0.95     0   0.0     0     0   \n",
       "2      3     1  1.30  0.2   0   0  1.05  0.95     0   0.0     0     0   \n",
       "3      4     1  0.65  0.1   0   0  1.05  0.95     0   0.0     0     0   \n",
       "4      5     2  0.00  0.0   0   0  1.05  0.95    18  -0.3    50     0   \n",
       "\n",
       "   baseMVA  baseKV  \n",
       "0      100     345  \n",
       "1      100     345  \n",
       "2      100     345  \n",
       "3      100     345  \n",
       "4      100     345  "
      ]
     },
     "metadata": {},
     "execution_count": 6
    }
   ],
   "metadata": {}
  },
  {
   "cell_type": "code",
   "execution_count": 3,
   "source": [
    "\r\n",
    "# WB2\r\n",
    "#bus_file = \"Data/WB2/bus_data.CSV\"\r\n",
    "#branch_file = \"Data/WB2/branch_data.CSV\"\r\n",
    "#gen_file = \"Data/WB2/gen_data.CSV\"\r\n",
    "#cost_file = \"Data/WB2/cost_data.CSV\"\r\n",
    "\r\n",
    "# WB5\r\n",
    "bus_file = \"Data/WB5/bus_data.CSV\"\r\n",
    "branch_file = \"Data/WB5/branch_data.CSV\"\r\n",
    "gen_file = \"Data/WB5/gen_data.CSV\"\r\n",
    "cost_file = \"Data/WB5/cost_data.CSV\"\r\n",
    "\r\n",
    "# case22loop\r\n",
    "# bus_file = \"Data/case22loop/bus_data.CSV\"\r\n",
    "# branch_file = \"Data/case22loop/branch_data.CSV\"\r\n",
    "# gen_file = \"Data/case22loop/gen_data.CSV\"\r\n",
    "# cost_file = \"Data/case22loop/cost_data.CSV\"\r\n",
    "\r\n",
    "data_importer = utils.DataImporter(bus_file, branch_file, gen_file, cost_file)\r\n",
    "bus_data = data_importer.import_bus_data()\r\n",
    "branch_data = data_importer.import_branch_data()\r\n",
    "gen_data = data_importer.import_gen_data()\r\n",
    "cost_data = data_importer.import_cost_data()\r\n",
    "\r\n",
    "print('Bus Data')\r\n",
    "print(bus_data)\r\n",
    "print()\r\n",
    "print('Branch Data')\r\n",
    "print(branch_data)\r\n",
    "print()\r\n",
    "print('Generator Data')\r\n",
    "print(gen_data)\r\n",
    "print()\r\n",
    "print('Cost Data')\r\n",
    "print(cost_data)\r\n",
    "print()\r\n"
   ],
   "outputs": [
    {
     "output_type": "stream",
     "name": "stdout",
     "text": [
      "Bus Data\n",
      "   bus_i  type    Pd   Qd  Gs  Bs  Vmax  Vmin  Qmax  Qmin  Pmax  Pmin  \\\n",
      "0      1     3  0.00  0.0   0   0  1.05  0.95    18  -0.3    50     0   \n",
      "1      2     1  1.30  0.2   0   0  1.05  0.95     0   0.0     0     0   \n",
      "2      3     1  1.30  0.2   0   0  1.05  0.95     0   0.0     0     0   \n",
      "3      4     1  0.65  0.1   0   0  1.05  0.95     0   0.0     0     0   \n",
      "4      5     2  0.00  0.0   0   0  1.05  0.95    18  -0.3    50     0   \n",
      "\n",
      "   baseMVA  baseKV  \n",
      "0      100     345  \n",
      "1      100     345  \n",
      "2      100     345  \n",
      "3      100     345  \n",
      "4      100     345  \n",
      "\n",
      "Branch Data\n",
      "   fbus  tbus     r     x     b  Pmax  Imax  baseMVA  baseKV\n",
      "0     1     2  0.04  0.09  0.00    25    25      100     345\n",
      "1     1     3  0.05  0.01  0.00    25    25      100     345\n",
      "2     2     3  0.07  0.09  0.00    25    25      100     345\n",
      "3     2     4  0.55  0.90  0.45    25    25      100     345\n",
      "4     3     5  0.55  0.90  0.45    25    25      100     345\n",
      "5     4     5  0.06  0.10  0.00    25    25      100     345\n",
      "\n",
      "Generator Data\n",
      "   bus  Qmax  Qmin  Pmax  Pmin  baseMVA  baseKV\n",
      "0    1    18  -0.3    50     0      100     345\n",
      "1    5    18  -0.3    50     0      100     345\n",
      "\n",
      "Cost Data\n",
      "   startup  shutdown  n  c2  c1  c0\n",
      "0        2         0  3   0   4   0\n",
      "1        2         0  3   0   1   0\n",
      "\n"
     ]
    }
   ],
   "metadata": {}
  },
  {
   "cell_type": "markdown",
   "source": [
    "**Data is prepared to fit the algorithm.**   \r\n",
    "\r\n",
    "Important parameters could be adjustet here. E.g.:\r\n",
    "+ Number of objective function segments\r\n",
    "+ Initial evaluation points\r\n",
    "+ Penalty factors\r\n",
    "+ Step-size parameters"
   ],
   "metadata": {}
  },
  {
   "cell_type": "code",
   "execution_count": 4,
   "source": [
    "#############################################\r\n",
    "# Data\r\n",
    "#############################################\r\n",
    "\r\n",
    "# Structural data\r\n",
    "lines = {\r\n",
    "    'nm': [(x,y) for x,y in zip(branch_data['fbus'], branch_data['tbus'])],\r\n",
    "    'mn': [(y,x) for x,y in zip(branch_data['fbus'], branch_data['tbus'])]\r\n",
    "}\r\n",
    "buses = bus_data['bus_i'].tolist()\r\n",
    "gen_buses = gen_data['bus'].tolist()\r\n",
    "n_buses = len(buses)\r\n",
    "n_obj_segments = 4\r\n",
    "\r\n",
    "# Base\r\n",
    "base_mva = bus_data['baseMVA'][0]\r\n",
    "base_kv = bus_data['baseKV'][0]\r\n",
    "\r\n",
    "# Bus data\r\n",
    "pn_d = bus_data['Pd'].tolist()\r\n",
    "qn_d = bus_data['Qd'].tolist()\r\n",
    "gn_shunt = bus_data['Gs'].tolist()\r\n",
    "bn_shunt =  bus_data['Bs'].tolist()\r\n",
    "v_min = bus_data['Vmin'].tolist()\r\n",
    "v_max = bus_data['Vmax'].tolist()\r\n",
    "v_max = [1.1]*len(v_min)\r\n",
    "p_max = bus_data['Pmax'].tolist()\r\n",
    "p_min = bus_data['Pmin'].tolist()\r\n",
    "q_max = bus_data['Qmax'].tolist()\r\n",
    "q_min = bus_data['Qmin'].tolist()\r\n",
    "\r\n",
    "# Branch data\r\n",
    "r = branch_data['r'].tolist()\r\n",
    "x = branch_data['x'].tolist()\r\n",
    "b_shunt = branch_data['b'].tolist()\r\n",
    "g_shunt = [0]*len(b_shunt)\r\n",
    "i_max = branch_data['Imax'].tolist()\r\n",
    "\r\n",
    "# Generator data\r\n",
    "p_gen_max = gen_data['Pmax'].tolist()\r\n",
    "p_gen_min = gen_data['Pmin'].tolist()\r\n",
    "\r\n",
    "\r\n",
    "#############################################\r\n",
    "# Parameters\r\n",
    "#############################################\r\n",
    "pc = utils.ParameterCalculator()\r\n",
    "\r\n",
    "# Costs\r\n",
    "c1 = [c*base_mva for c in cost_data['c1'].tolist()]\r\n",
    "c2 = [c*base_mva**2 for c in cost_data['c2'].tolist()]\r\n",
    "costs_generators = pc.get_pwl_coefficients(c1, c2, p_gen_min, p_gen_max, base_mva, n_obj_segments)\r\n",
    "\r\n",
    "# Penalty factors\r\n",
    "pn_viol_fac = [2.5*max(c1)]*n_buses\r\n",
    "qn_viol_fac = [12.5*max(c1)]*n_buses\r\n",
    "vn_viol_fac = [15*max(c1)]*n_buses\r\n",
    "ik_viol_fac = [25*max(c1)]*len(lines['nm'])*2\r\n",
    "\r\n",
    "# Step-size parameters\r\n",
    "step_size_a = 0.25\r\n",
    "step_size_b = 1.5\r\n",
    "\r\n",
    "# Admittance\r\n",
    "yk_matrices = pc.get_yk_matrices( r, x, g_shunt, b_shunt)\r\n",
    "\r\n",
    "\r\n",
    "#############################################\r\n",
    "# Initial evaluation points\r\n",
    "#############################################\r\n",
    "\r\n",
    "# Initialization like flat start \r\n",
    "vnr_eva = [1]*n_buses\r\n",
    "vnj_eva = [0]*n_buses\r\n",
    "inr_eva = gn_shunt\r\n",
    "inj_eva = [0]*n_buses\r\n",
    "i_ini_nm = [yk[0].dot(np.array([1,1])) for yk in yk_matrices]\r\n",
    "i_ini_mn = [yk[1].dot(np.array([1,1])) for yk in yk_matrices]\r\n",
    "i_ini = i_ini_nm+i_ini_mn\r\n",
    "ikr_eva = [i.real for i in i_ini]\r\n",
    "ikj_eva = [i.imag for i in i_ini]"
   ],
   "outputs": [],
   "metadata": {}
  },
  {
   "cell_type": "markdown",
   "source": [
    "Define directory, where models and solutions should be written to:"
   ],
   "metadata": {}
  },
  {
   "cell_type": "code",
   "execution_count": 5,
   "source": [
    "gurobi_directory = \"Gurobi_write\"\r\n",
    "if not os.path.exists(gurobi_directory):\r\n",
    "    os.makedirs(gurobi_directory)"
   ],
   "outputs": [],
   "metadata": {}
  },
  {
   "cell_type": "markdown",
   "source": [
    "## **Model Setup**"
   ],
   "metadata": {}
  },
  {
   "cell_type": "code",
   "execution_count": 6,
   "source": [
    "mb = slp.ModelBuilder(n_buses, gen_buses, n_obj_segments, lines)\r\n",
    "\r\n",
    "mb.add_objective(costs_generators, pn_viol_fac, qn_viol_fac, vn_viol_fac, ik_viol_fac)\r\n",
    "mb.add_obj_constraints(p_gen_min, p_gen_max)\r\n",
    "mb.add_flow_constraints( yk_matrices, gn_shunt, bn_shunt)\r\n",
    "mb.add_box_constraints( v_max, i_max)\r\n",
    "mb.add_taylor_constraints(vnr_eva, vnj_eva, inr_eva, inj_eva, ikr_eva, ikj_eva, pn_d, qn_d)\r\n",
    "mb.add_power_constraints(p_min, p_max, q_min, q_max)\r\n",
    "mb.add_iv_constraints(v_min, v_max, i_max)"
   ],
   "outputs": [
    {
     "output_type": "stream",
     "name": "stdout",
     "text": [
      "\n",
      "--------------------------------------------\n",
      "Warning: your license will expire in 9 days\n",
      "--------------------------------------------\n",
      "\n",
      "Using license file C:\\Users\\Leo\\gurobi.lic\n",
      "Academic license - for non-commercial use only\n"
     ]
    }
   ],
   "metadata": {}
  },
  {
   "cell_type": "markdown",
   "source": [
    "## **First Iteration**"
   ],
   "metadata": {}
  },
  {
   "cell_type": "markdown",
   "source": [
    "**Optimization problem is written to files inside the present folder:**\r\n",
    "\r\n",
    "modelit0.lp - Gurobi model after first iteratation.   \r\n",
    "solit0.sol - Solution of the first iteration."
   ],
   "metadata": {}
  },
  {
   "cell_type": "code",
   "execution_count": 7,
   "source": [
    "#mb.model.setParam('LogFile', 'Gurobi_LogFile')\r\n",
    "mb.model.setParam('Threads', 4)\r\n",
    "\r\n",
    "# Default method chooses automatically (e.g. depending on available threads)\r\n",
    "#mb.model.setParam('Method', 0) # primal simplex\r\n",
    "mb.model.setParam('Method', 1) # dual simplex\r\n",
    "#mb.model.setParam('Method', 2) # barrier method\r\n",
    "\r\n",
    "start_time_0 = time.time()\r\n",
    "mb.run()\r\n",
    "end_time_0 = time.time()\r\n",
    "duration_0 = end_time_0-start_time_0\r\n",
    "\r\n",
    "mb.write_model(gurobi_directory+r'/modelit0')\r\n",
    "mb.write_solution(gurobi_directory+r'/solit0')"
   ],
   "outputs": [
    {
     "output_type": "stream",
     "name": "stdout",
     "text": [
      "Changed value of parameter Threads to 4\n",
      "   Prev: 0  Min: 0  Max: 1024  Default: 0\n",
      "Changed value of parameter Method to 1\n",
      "   Prev: -1  Min: -1  Max: 5  Default: -1\n",
      "Gurobi Optimizer version 9.0.2 build v9.0.2rc0 (win64)\n",
      "Optimize a model with 181 rows, 121 columns and 370 nonzeros\n",
      "Model fingerprint: 0x9e5ce702\n",
      "Coefficient statistics:\n",
      "  Matrix range     [4e-01, 2e+01]\n",
      "  Objective range  [1e+02, 1e+04]\n",
      "  Bounds range     [0e+00, 0e+00]\n",
      "  RHS range        [5e-02, 6e+02]\n",
      "Presolve removed 162 rows and 92 columns\n",
      "Presolve time: 0.00s\n",
      "Presolved: 19 rows, 29 columns, 141 nonzeros\n",
      "\n",
      "Iteration    Objective       Primal Inf.    Dual Inf.      Time\n",
      "       0    0.0000000e+00   4.501660e-01   0.000000e+00      0s\n",
      "      20    7.8588859e+02   0.000000e+00   0.000000e+00      0s\n",
      "\n",
      "Solved in 20 iterations and 0.00 seconds\n",
      "Optimal objective  7.858885948e+02\n"
     ]
    }
   ],
   "metadata": {}
  },
  {
   "cell_type": "markdown",
   "source": [
    "## **Multiple Runs**"
   ],
   "metadata": {}
  },
  {
   "cell_type": "markdown",
   "source": [
    "Adjust *number_of_runs* to define the maximum number of iterations.\r\n",
    "\r\n",
    "**At the end of all iterations, model and solutions are written to the files:**   \r\n",
    "   modelit(number_of_runs).lp   \r\n",
    "   solit(number_of_runs).sol\r\n",
    "   \r\n",
    "\r\n",
    "**If some error occurs or the algorithm terminates premature (i.e. before reaching the defined number of runs), model and solution of the last valid iteration could be found in:**   \r\n",
    "   current_model.lp   \r\n",
    "   current_solution.sol   \r\n",
    "\r\n",
    "**If the model of an iteration is likely to be infeasible, gurobi will try to export the Irreducible Inconsistent Subsystem (IIS).**   \r\n",
    "\r\n",
    "**A *gamma_tolerance* is used to prevent errors occurring due to Gurobi's tolerance and the algorithm's calculations (in particular step-size calculations).**   \r\n",
    "   \"Smaller *gamma_tolerance*\" means, that solutions are able to get closer to ACOPF feasibility.   \r\n",
    "   **But:** The smaller the tolerance, the more likely conflicts may occur.\r\n",
    "   (Gurobi's tolerance leads to a negative *gamma* and calculating step size, which includes *log(gamma)* will throw an error.)\r\n",
    "   \r\n",
    "\r\n",
    "\r\n",
    "\r\n",
    "**!!! It cannot be ruled out that errors occur which are not handled below. !!!**"
   ],
   "metadata": {}
  },
  {
   "cell_type": "code",
   "execution_count": 8,
   "source": [
    "number_of_runs = 100\r\n",
    "gamma_tolerance = 10**(-12)\r\n",
    "\r\n",
    "############################################################\r\n",
    "# Prepare subsequent runs\r\n",
    "############################################################\r\n",
    "mb.model.setParam('OutputFlag', 0)\r\n",
    "write_solution = False\r\n",
    "current_run = 0\r\n",
    "\r\n",
    "# To extract values before extraction is impossible due to infeasibility or model adjustment\r\n",
    "pn_extract = []\r\n",
    "qn_extract = []\r\n",
    "vnr_extract = []\r\n",
    "vnj_extract = []\r\n",
    "inr_extract = []\r\n",
    "inj_extract = []\r\n",
    "ikr_extract = []\r\n",
    "ikj_extract = []\r\n",
    "\r\n",
    "# Runtime mesurement\r\n",
    "end_time = None\r\n",
    "start_time = time.time()\r\n",
    "\r\n",
    "############################################################\r\n",
    "# Successive algorithm\r\n",
    "############################################################\r\n",
    "while current_run < number_of_runs: \r\n",
    "    current_run += 1\r\n",
    "    mb.write_model(gurobi_directory+r'/current_model')\r\n",
    "    mb.write_solution(gurobi_directory+r'/current_solution')\r\n",
    "    \r\n",
    "    # New evalutaion points\r\n",
    "    try:        \r\n",
    "        vnr_eva_dict = {key: vnr.x for key, vnr in mb.v_n_r.items()}\r\n",
    "        vnj_eva_dict = {key: vnj.x for key, vnj in mb.v_n_j.items()}\r\n",
    "        inr_eva_dict = {key: inr.x for key, inr in mb.i_n_r.items()}\r\n",
    "        inj_eva_dict = {key: inj.x for key, inj in mb.i_n_j.items()}\r\n",
    "        ikr_eva_dict = {key: ikr.x for key, ikr in mb.i_k_r.items()}\r\n",
    "        ikj_eva_dict = {key: inj.x for key, inj in mb.i_k_j.items()}\r\n",
    "        # Value extraction\r\n",
    "        pn_extract = [pn.x for pn in mb.p_n.values()]\r\n",
    "        qn_extract = [qn.x for qn in mb.q_n.values()]\r\n",
    "        vnr_extract = list(vnr_eva_dict.values())\r\n",
    "        vnj_extract = list(vnj_eva_dict.values())\r\n",
    "        inr_extract = list(inr_eva_dict.values())\r\n",
    "        inj_extract = list(inj_eva_dict.values())\r\n",
    "        ikr_extract = list(ikr_eva_dict.values())\r\n",
    "        ikj_extract = list(ikj_eva_dict.values())\r\n",
    "    except AttributeError as aerr:\r\n",
    "        print('Iteration', current_run,': Model might be infeasible: ', aerr)\r\n",
    "        mb.write_model('Infeasible_Model')\r\n",
    "        mb.write_iis()\r\n",
    "        raise\r\n",
    "    \r\n",
    "    # Adjust evaluation points\r\n",
    "    vn_updated_keys = pc.update_iv_eva_points(vnr_eva_dict, vnj_eva_dict, v_max)\r\n",
    "    ik_updated_keys = pc.update_iv_eva_points(ikr_eva_dict, ikj_eva_dict, i_max*2)\r\n",
    "    v_max_update = bus_data.loc[bus_data.bus_i.isin(vn_updated_keys)].Vmax.tolist()\r\n",
    "    ik_max_update = []\r\n",
    "    for ij, imax in zip(ikr_eva_dict, i_max*2):\r\n",
    "        if ij in ik_updated_keys:\r\n",
    "            ik_max_update.append(imax)\r\n",
    "    \r\n",
    "    # Cutting planes\r\n",
    "    mb.remove_cutting_planes()\r\n",
    "    if vn_updated_keys: \r\n",
    "        mb.add_voltage_cutting_plane(vnr_eva_dict, vnj_eva_dict, v_max_update, vn_updated_keys)\r\n",
    "    if ik_updated_keys:\r\n",
    "        mb.add_line_current_cutting_plane(ikr_eva_dict, ikj_eva_dict, ik_max_update, ik_updated_keys)\r\n",
    "    \r\n",
    "    # Update Taylor series\r\n",
    "    mb.remove_taylor_constraints()\r\n",
    "    mb.add_taylor_constraints(list(vnr_eva_dict.values()), list(vnj_eva_dict.values()), list(inr_eva_dict.values()), list(inj_eva_dict.values()), list(ikr_eva_dict.values()), list(ikj_eva_dict.values()), pn_d, qn_d)\r\n",
    "    \r\n",
    "    # Step-size\r\n",
    "    mb.remove_step_size_constraints()\r\n",
    "    penalty = mb.penalty.getValue()\r\n",
    "    cost = mb.model.getObjective().getValue()\r\n",
    "    pn_opt = [pn.x for pn in mb.p_n.values()]\r\n",
    "    vnr_opt = [vnr.x for vnr in mb.v_n_r.values()]\r\n",
    "    vnj_opt = [vnj.x for vnj in mb.v_n_j.values()]\r\n",
    "    inr_opt = [inr.x for inr in mb.i_n_r.values()]\r\n",
    "    inj_opt = [inj.x for inj in mb.i_n_j.values()]\r\n",
    "    \r\n",
    "    try:\r\n",
    "        step_size_limits = pc.get_step_size_limits(pn_opt, pn_d, vnr_opt, vnj_opt, inr_opt, inj_opt, v_max, cost, penalty, step_size_a, step_size_b, current_run)\r\n",
    "    except ValueError as vaerr:\r\n",
    "        print('Iteration', current_run,': Error occured while calculating step sizes: ', vaerr)\r\n",
    "        if pc.gamma[-1] <= gamma_tolerance:\r\n",
    "            print(\"{0} iteration canceled: Gamma less than tolerance\".format(current_run))\r\n",
    "            print(\"Tolerance: \"+str(gamma_tolerance))\r\n",
    "            print(\"Gamma: \"+str(pc.gamma[-1]))\r\n",
    "            break\r\n",
    "        else: \r\n",
    "            print('Tolerance might be too tight')\r\n",
    "            raise\r\n",
    "    \r\n",
    "    mb.add_step_size_constraints(list(vnr_eva_dict.values()), list(vnj_eva_dict.values()), step_size_limits)\r\n",
    "    \r\n",
    "    # Output\r\n",
    "    if current_run == number_of_runs: \r\n",
    "        mb.model.setParam('OutputFlag', 1)\r\n",
    "        write_solution = True\r\n",
    "    elif pc.gamma[-1] <= gamma_tolerance:\r\n",
    "        print(\"Iteration {0} canceled: Gamma less than tolerance\".format(current_run))\r\n",
    "        print(\"Tolerance: \"+str(gamma_tolerance))\r\n",
    "        print(\"Gamma: \"+str(pc.gamma[-1]))\r\n",
    "        break\r\n",
    "        \r\n",
    "    mb.run()\r\n",
    "    \r\n",
    "    if write_solution == True:\r\n",
    "        end_time = time.time()\r\n",
    "        mb.write_model(gurobi_directory+r'/modelit'+str(number_of_runs))\r\n",
    "        mb.write_solution(gurobi_directory+r'/solit'+str(number_of_runs))\r\n",
    "\r\n",
    "#End of algorithm\r\n",
    "end_time = time.time()\r\n",
    "duration_it = end_time - start_time\r\n",
    "duration_all = duration_0 + duration_it\r\n",
    "\r\n",
    "print()\r\n",
    "print(\"(Completed)\",current_run,\"SLP iterations:\")\r\n",
    "print()\r\n",
    "print(\"{0} subsequent runs in {1} seconds.\".format(current_run,str(duration_it)))\r\n",
    "print(\"Duaration with initial iteration: {0} seconds\".format(duration_all))\r\n",
    "print()"
   ],
   "outputs": [
    {
     "output_type": "stream",
     "name": "stdout",
     "text": [
      "Iteration 13 canceled: Gamma less than tolerance\n",
      "Tolerance: 1e-12\n",
      "Gamma: 6.683768468143881e-19\n",
      "\n",
      "(Completed) 13 SLP iterations:\n",
      "\n",
      "13 subsequent runs in 0.19104313850402832 seconds.\n",
      "Duaration with initial iteration: 0.1980457305908203 seconds\n",
      "\n"
     ]
    }
   ],
   "metadata": {}
  },
  {
   "cell_type": "markdown",
   "source": [
    "## **Convergence Visualization**"
   ],
   "metadata": {}
  },
  {
   "cell_type": "markdown",
   "source": [
    "Each data point represents the value *y* of the corresponding parameter after iteration *x*."
   ],
   "metadata": {}
  },
  {
   "cell_type": "code",
   "execution_count": 9,
   "source": [
    "x1 = range(0,len(pc.gamma))\r\n",
    "x2 = range(0,len(pc.mismatch))\r\n",
    "x3 = range(0,len(pc.cost))\r\n",
    "x4 = range(0,len(pc.penalty))\r\n",
    "x5 = range(0,len(pc.penalty))\r\n",
    "\r\n",
    "y1 = pc.gamma\r\n",
    "y2 = pc.mismatch\r\n",
    "y3 = pc.cost\r\n",
    "y4 = pc.penalty\r\n",
    "y5 = list(np.array(y3)-np.array(y4))\r\n",
    "\r\n",
    "step_size_df = pd.DataFrame(pc.step_size_limits, columns= buses)\r\n",
    "measures_df = pd.DataFrame({'gamma': y1, 'mismatch': y2, 'cost': y3, 'penalty': y4, 'offer': y5})\r\n",
    "print(measures_df)\r\n",
    "\r\n",
    "fig, axs = plt.subplots(5, 1)\r\n",
    "fig.tight_layout()\r\n",
    "fig.set_size_inches(16,16)\r\n",
    "plt.xlabel('iteration')\r\n",
    "\r\n",
    "axs[0].plot(x1, y1)\r\n",
    "axs[0].set_title('gamma')\r\n",
    "\r\n",
    "axs[1].plot(x2, y2)\r\n",
    "axs[1].set_title('mismatch')\r\n",
    "\r\n",
    "axs[2].plot(x3, y3)\r\n",
    "axs[2].set_title('cost')\r\n",
    "\r\n",
    "axs[3].plot(x4, y4)\r\n",
    "axs[3].set_title('penalty')\r\n",
    "\r\n",
    "axs[4].plot(x5, y5)\r\n",
    "axs[4].set_title('offer')\r\n",
    "\r\n",
    "plt.show()\r\n",
    "\r\n",
    "print()\r\n",
    "print(\"Step Sizes at bus n in iteration x:\")\r\n",
    "print(step_size_df)\r\n",
    "step_size_df.plot()"
   ],
   "outputs": [
    {
     "output_type": "stream",
     "name": "stdout",
     "text": [
      "           gamma      mismatch         cost     penalty        offer\n",
      "0   1.337372e-03  1.052433e+00   785.888595    0.000000   785.888595\n",
      "1   1.562388e-01  7.805549e-01  1296.311967  201.875606  1094.436360\n",
      "2   4.500980e-05  4.773640e-02  1060.530291    0.000000  1060.530291\n",
      "3   3.689505e-01  5.157013e-04  1698.740760  626.750928  1071.989832\n",
      "4   9.393339e-06  9.822082e-03  1045.633428    0.000000  1045.633428\n",
      "5   3.809343e-01  6.123732e-07  1690.776670  644.074908  1046.701762\n",
      "6   2.363093e-06  2.467791e-03  1044.303119    0.000000  1044.303119\n",
      "7   3.841000e-01  5.969491e-08  1695.466285  651.228516  1044.237769\n",
      "8   3.466486e-01  1.251794e-03  1618.866971  561.177111  1057.689861\n",
      "9   4.444483e-07  4.660448e-04  1048.591077    0.000000  1048.591077\n",
      "10  2.044529e-04  3.659794e-10  1048.823366    0.214435  1048.608931\n",
      "11  1.512725e-11  1.586172e-08  1048.552626    0.000000  1048.552626\n",
      "12  6.683768e-19  7.008283e-16  1048.552606    0.000000  1048.552606\n"
     ]
    },
    {
     "output_type": "display_data",
     "data": {
      "image/png": "[encoded data removed]",
      "text/plain": [
       "<Figure size 1152x1152 with 5 Axes>"
      ]
     },
     "metadata": {
      "needs_background": "light"
     }
    },
    {
     "output_type": "stream",
     "name": "stdout",
     "text": [
      "\n",
      "Step Sizes at bus n in iteration x:\n",
      "               1             2             3             4             5\n",
      "0   3.487345e-01  3.487345e-01  3.487345e-01  3.487345e-01  3.487345e-01\n",
      "1   1.291881e-01  1.291881e-01  1.291881e-01  1.291881e-01  1.291881e-01\n",
      "2   3.385198e-03  3.385198e-03  3.385198e-03  3.385198e-03  3.385198e-03\n",
      "3   3.894625e-02  3.894625e-02  3.894625e-02  3.894625e-02  3.894625e-02\n",
      "4   2.124987e-04  2.124987e-04  2.124987e-04  2.124987e-04  2.124987e-04\n",
      "5   1.952724e-02  1.952724e-02  1.952724e-02  1.952724e-02  1.952724e-02\n",
      "6   2.295590e-05  2.295590e-05  2.295590e-05  2.295590e-05  2.295590e-05\n",
      "7   1.189795e-02  1.189795e-02  1.189795e-02  1.189795e-02  1.189795e-02\n",
      "8   9.029733e-03  9.029733e-03  9.029733e-03  9.029733e-03  9.029733e-03\n",
      "9   1.487375e-06  1.487375e-06  1.487375e-06  1.487375e-06  1.487375e-06\n",
      "10  5.110195e-05  5.110195e-05  5.110195e-05  5.110195e-05  5.110195e-05\n",
      "11  6.496758e-10  6.496758e-10  6.496758e-10  6.496758e-10  6.496758e-10\n",
      "12  4.346963e-15  4.346963e-15  4.346963e-15  4.346963e-15  4.346963e-15\n"
     ]
    },
    {
     "output_type": "execute_result",
     "data": {
      "text/plain": [
       "<matplotlib.axes._subplots.AxesSubplot at 0x1cb51770c48>"
      ]
     },
     "metadata": {},
     "execution_count": 9
    },
    {
     "output_type": "display_data",
     "data": {
      "image/png": "[encoded data removed]",
      "text/plain": [
       "<Figure size 432x288 with 1 Axes>"
      ]
     },
     "metadata": {
      "needs_background": "light"
     }
    }
   ],
   "metadata": {}
  },
  {
   "cell_type": "markdown",
   "source": [
    "## **Result Organization**"
   ],
   "metadata": {}
  },
  {
   "cell_type": "code",
   "execution_count": 10,
   "source": [
    "# Power injection\r\n",
    "s_magnitude, s_phase =  pc.calc_magnitude_n_phase(pn_extract, qn_extract)\r\n",
    "sn_df = pd.DataFrame({'bus': buses, 'magnitude': s_magnitude, 'pn': pn_extract, 'qn': qn_extract, 'phase': s_phase})\r\n",
    "\r\n",
    "# Bus voltages\r\n",
    "v_magnitude, v_phase = pc.calc_magnitude_n_phase(vnr_extract, vnj_extract)\r\n",
    "vn_df = pd.DataFrame({'bus': buses, 'magnitude': v_magnitude, 'vnr': vnr_extract, 'vnj': vnj_extract, 'phase':v_phase})\r\n",
    "\r\n",
    "# Current flow\r\n",
    "ik_magnitude, ik_phase = pc.calc_magnitude_n_phase(ikr_extract, ikj_extract)\r\n",
    "ik_df = pd.DataFrame({'lines': lines['nm']+lines['mn'], 'magnitude': ik_magnitude, 'ikr': ikr_extract, 'ikj': ikj_extract, 'phase' : ik_phase})\r\n",
    "\r\n",
    "\r\n",
    "print('Power injection: ')\r\n",
    "print(sn_df)\r\n",
    "print()\r\n",
    "print('Bus voltages: ')\r\n",
    "print(vn_df)\r\n",
    "print()\r\n",
    "print('Current flow: ')\r\n",
    "print(ik_df)\r\n",
    "print()"
   ],
   "outputs": [
    {
     "output_type": "stream",
     "name": "stdout",
     "text": [
      "Power injection: \n",
      "   bus     magnitude            pn            qn      phase\n",
      "0    1  2.336091e+00  2.332052e+00  1.373280e-01  86.629903\n",
      "1    2  1.342237e-08  1.342237e-08  0.000000e+00   0.000000\n",
      "2    3  2.656999e-08  2.656999e-08  0.000000e+00   0.000000\n",
      "3    4  1.584015e-08  1.308731e-08  8.923710e-09  55.711491\n",
      "4    5  1.195538e+00  1.157320e+00 -2.998705e-01 -75.473681\n",
      "\n",
      "Bus voltages: \n",
      "   bus  magnitude       vnr       vnj      phase\n",
      "0    1   1.017878  0.961814  0.333149  70.895145\n",
      "1    2   0.954248  0.921232  0.248839  74.884256\n",
      "2    3   0.950056  0.905354  0.287992  72.354185\n",
      "3    4   1.057272  0.958026  0.447226  64.975887\n",
      "4    5   1.096211  0.952713  0.542234  60.353765\n",
      "\n",
      "Current flow: \n",
      "     lines  magnitude       ikr       ikj      phase\n",
      "0   (1, 2)   0.950049  0.949610 -0.028866 -88.258879\n",
      "1   (1, 3)   1.417864  1.259449  0.651251  62.656883\n",
      "2   (2, 3)   0.370558 -0.185567 -0.320747  30.051304\n",
      "3   (2, 4)   0.272730 -0.234672  0.138964 -59.367485\n",
      "4   (3, 5)   0.316074 -0.293890  0.116325 -68.405790\n",
      "5   (4, 5)   0.815957 -0.675145 -0.458220  55.835309\n",
      "6   (2, 1)   0.950049 -0.949610  0.028866 -88.258879\n",
      "7   (3, 1)   1.417864 -1.259449 -0.651251  62.656883\n",
      "8   (3, 2)   0.370558  0.185567  0.320747  30.051303\n",
      "9   (4, 2)   0.294405  0.078057  0.283869  15.374985\n",
      "10  (5, 3)   0.320180  0.107089  0.301740  19.539971\n",
      "11  (5, 4)   0.815957  0.675145  0.458220  55.835309\n",
      "\n"
     ]
    }
   ],
   "metadata": {}
  },
  {
   "cell_type": "markdown",
   "source": [
    "## **Export**"
   ],
   "metadata": {}
  },
  {
   "cell_type": "code",
   "execution_count": 11,
   "source": [
    "export_directory = \"sol_export\"\r\n",
    "if not os.path.exists(export_directory):\r\n",
    "    os.makedirs(export_directory)\r\n",
    "\r\n",
    "\r\n",
    "measures_df.to_csv(export_directory+\"/measures.csv\", sep=\";\")\r\n",
    "step_size_df.to_csv(export_directory+\"/step-size.csv\", sep=\";\")\r\n",
    "sn_df.to_csv(export_directory+\"/power.csv\", sep=\";\")\r\n",
    "vn_df.to_csv(export_directory+\"/voltage.csv\", sep=\";\")\r\n",
    "ik_df.to_csv(export_directory+\"/current.csv\", sep=\";\")"
   ],
   "outputs": [],
   "metadata": {}
  },
  {
   "cell_type": "markdown",
   "source": [
    "**Calculate IIS in case of infeasibility.**"
   ],
   "metadata": {}
  },
  {
   "cell_type": "code",
   "execution_count": null,
   "source": [
    "mb.write_iis()"
   ],
   "outputs": [],
   "metadata": {}
  }
 ],
 "metadata": {
  "kernelspec": {
   "name": "python3",
   "display_name": "Python 3.9.6 64-bit ('energy': conda)"
  },
  "language_info": {
   "name": "python",
   "version": "3.9.6",
   "mimetype": "text/x-python",
   "codemirror_mode": {
    "name": "ipython",
    "version": 3
   },
   "pygments_lexer": "ipython3",
   "nbconvert_exporter": "python",
   "file_extension": ".py"
  },
  "interpreter": {
   "hash": "9b3da320e11a5b545e1b132c86792942d418855080015ea4aad6bded53af5271"
  }
 },
 "nbformat": 4,
 "nbformat_minor": 4
}